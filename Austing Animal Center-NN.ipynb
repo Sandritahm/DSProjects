{
 "cells": [
  {
   "cell_type": "code",
   "execution_count": 1,
   "id": "7c63925e",
   "metadata": {},
   "outputs": [],
   "source": [
    "import pandas as pd\n",
    "import numpy as np\n",
    "import matplotlib.pyplot as plt\n",
    "from sklearn import preprocessing\n",
    "\n",
    "import tensorflow as tf"
   ]
  },
  {
   "cell_type": "code",
   "execution_count": 2,
   "id": "d7048de7",
   "metadata": {
    "scrolled": true
   },
   "outputs": [
    {
     "data": {
      "text/html": [
       "<div>\n",
       "<style scoped>\n",
       "    .dataframe tbody tr th:only-of-type {\n",
       "        vertical-align: middle;\n",
       "    }\n",
       "\n",
       "    .dataframe tbody tr th {\n",
       "        vertical-align: top;\n",
       "    }\n",
       "\n",
       "    .dataframe thead th {\n",
       "        text-align: right;\n",
       "    }\n",
       "</style>\n",
       "<table border=\"1\" class=\"dataframe\">\n",
       "  <thead>\n",
       "    <tr style=\"text-align: right;\">\n",
       "      <th></th>\n",
       "      <th>age_upon_outcome</th>\n",
       "      <th>animal_id_outcome</th>\n",
       "      <th>date_of_birth</th>\n",
       "      <th>outcome_subtype</th>\n",
       "      <th>outcome_type</th>\n",
       "      <th>sex_upon_outcome</th>\n",
       "      <th>age_upon_outcome_(days)</th>\n",
       "      <th>age_upon_outcome_(years)</th>\n",
       "      <th>age_upon_outcome_age_group</th>\n",
       "      <th>outcome_datetime</th>\n",
       "      <th>...</th>\n",
       "      <th>age_upon_intake_age_group</th>\n",
       "      <th>intake_datetime</th>\n",
       "      <th>intake_month</th>\n",
       "      <th>intake_year</th>\n",
       "      <th>intake_monthyear</th>\n",
       "      <th>intake_weekday</th>\n",
       "      <th>intake_hour</th>\n",
       "      <th>intake_number</th>\n",
       "      <th>time_in_shelter</th>\n",
       "      <th>time_in_shelter_days</th>\n",
       "    </tr>\n",
       "  </thead>\n",
       "  <tbody>\n",
       "    <tr>\n",
       "      <th>0</th>\n",
       "      <td>10 years</td>\n",
       "      <td>A006100</td>\n",
       "      <td>2007-07-09 00:00:00</td>\n",
       "      <td>NaN</td>\n",
       "      <td>Return to Owner</td>\n",
       "      <td>Neutered Male</td>\n",
       "      <td>3650</td>\n",
       "      <td>10.0</td>\n",
       "      <td>(7.5, 10.0]</td>\n",
       "      <td>2017-12-07 14:07:00</td>\n",
       "      <td>...</td>\n",
       "      <td>(7.5, 10.0]</td>\n",
       "      <td>2017-12-07 00:00:00</td>\n",
       "      <td>12</td>\n",
       "      <td>2017</td>\n",
       "      <td>2017-12</td>\n",
       "      <td>Thursday</td>\n",
       "      <td>14</td>\n",
       "      <td>1.0</td>\n",
       "      <td>0 days 14:07:00.000000000</td>\n",
       "      <td>0.588194</td>\n",
       "    </tr>\n",
       "    <tr>\n",
       "      <th>1</th>\n",
       "      <td>7 years</td>\n",
       "      <td>A006100</td>\n",
       "      <td>2007-07-09 00:00:00</td>\n",
       "      <td>NaN</td>\n",
       "      <td>Return to Owner</td>\n",
       "      <td>Neutered Male</td>\n",
       "      <td>2555</td>\n",
       "      <td>7.0</td>\n",
       "      <td>(5.0, 7.5]</td>\n",
       "      <td>2014-12-20 16:35:00</td>\n",
       "      <td>...</td>\n",
       "      <td>(5.0, 7.5]</td>\n",
       "      <td>2014-12-19 10:21:00</td>\n",
       "      <td>12</td>\n",
       "      <td>2014</td>\n",
       "      <td>2014-12</td>\n",
       "      <td>Friday</td>\n",
       "      <td>10</td>\n",
       "      <td>2.0</td>\n",
       "      <td>1 days 06:14:00.000000000</td>\n",
       "      <td>1.259722</td>\n",
       "    </tr>\n",
       "    <tr>\n",
       "      <th>2</th>\n",
       "      <td>6 years</td>\n",
       "      <td>A006100</td>\n",
       "      <td>2007-07-09 00:00:00</td>\n",
       "      <td>NaN</td>\n",
       "      <td>Return to Owner</td>\n",
       "      <td>Neutered Male</td>\n",
       "      <td>2190</td>\n",
       "      <td>6.0</td>\n",
       "      <td>(5.0, 7.5]</td>\n",
       "      <td>2014-03-08 17:10:00</td>\n",
       "      <td>...</td>\n",
       "      <td>(5.0, 7.5]</td>\n",
       "      <td>2014-03-07 14:26:00</td>\n",
       "      <td>3</td>\n",
       "      <td>2014</td>\n",
       "      <td>2014-03</td>\n",
       "      <td>Friday</td>\n",
       "      <td>14</td>\n",
       "      <td>3.0</td>\n",
       "      <td>1 days 02:44:00.000000000</td>\n",
       "      <td>1.113889</td>\n",
       "    </tr>\n",
       "    <tr>\n",
       "      <th>3</th>\n",
       "      <td>10 years</td>\n",
       "      <td>A047759</td>\n",
       "      <td>2004-04-02 00:00:00</td>\n",
       "      <td>Partner</td>\n",
       "      <td>Transfer</td>\n",
       "      <td>Neutered Male</td>\n",
       "      <td>3650</td>\n",
       "      <td>10.0</td>\n",
       "      <td>(7.5, 10.0]</td>\n",
       "      <td>2014-04-07 15:12:00</td>\n",
       "      <td>...</td>\n",
       "      <td>(7.5, 10.0]</td>\n",
       "      <td>2014-04-02 15:55:00</td>\n",
       "      <td>4</td>\n",
       "      <td>2014</td>\n",
       "      <td>2014-04</td>\n",
       "      <td>Wednesday</td>\n",
       "      <td>15</td>\n",
       "      <td>1.0</td>\n",
       "      <td>4 days 23:17:00.000000000</td>\n",
       "      <td>4.970139</td>\n",
       "    </tr>\n",
       "    <tr>\n",
       "      <th>4</th>\n",
       "      <td>16 years</td>\n",
       "      <td>A134067</td>\n",
       "      <td>1997-10-16 00:00:00</td>\n",
       "      <td>NaN</td>\n",
       "      <td>Return to Owner</td>\n",
       "      <td>Neutered Male</td>\n",
       "      <td>5840</td>\n",
       "      <td>16.0</td>\n",
       "      <td>(15.0, 17.5]</td>\n",
       "      <td>2013-11-16 11:54:00</td>\n",
       "      <td>...</td>\n",
       "      <td>(15.0, 17.5]</td>\n",
       "      <td>2013-11-16 09:02:00</td>\n",
       "      <td>11</td>\n",
       "      <td>2013</td>\n",
       "      <td>2013-11</td>\n",
       "      <td>Saturday</td>\n",
       "      <td>9</td>\n",
       "      <td>1.0</td>\n",
       "      <td>0 days 02:52:00.000000000</td>\n",
       "      <td>0.119444</td>\n",
       "    </tr>\n",
       "  </tbody>\n",
       "</table>\n",
       "<p>5 rows × 41 columns</p>\n",
       "</div>"
      ],
      "text/plain": [
       "  age_upon_outcome animal_id_outcome        date_of_birth outcome_subtype  \\\n",
       "0         10 years           A006100  2007-07-09 00:00:00             NaN   \n",
       "1          7 years           A006100  2007-07-09 00:00:00             NaN   \n",
       "2          6 years           A006100  2007-07-09 00:00:00             NaN   \n",
       "3         10 years           A047759  2004-04-02 00:00:00         Partner   \n",
       "4         16 years           A134067  1997-10-16 00:00:00             NaN   \n",
       "\n",
       "      outcome_type sex_upon_outcome  age_upon_outcome_(days)  \\\n",
       "0  Return to Owner    Neutered Male                     3650   \n",
       "1  Return to Owner    Neutered Male                     2555   \n",
       "2  Return to Owner    Neutered Male                     2190   \n",
       "3         Transfer    Neutered Male                     3650   \n",
       "4  Return to Owner    Neutered Male                     5840   \n",
       "\n",
       "   age_upon_outcome_(years) age_upon_outcome_age_group     outcome_datetime  \\\n",
       "0                      10.0                (7.5, 10.0]  2017-12-07 14:07:00   \n",
       "1                       7.0                 (5.0, 7.5]  2014-12-20 16:35:00   \n",
       "2                       6.0                 (5.0, 7.5]  2014-03-08 17:10:00   \n",
       "3                      10.0                (7.5, 10.0]  2014-04-07 15:12:00   \n",
       "4                      16.0               (15.0, 17.5]  2013-11-16 11:54:00   \n",
       "\n",
       "   ...  age_upon_intake_age_group      intake_datetime intake_month  \\\n",
       "0  ...                (7.5, 10.0]  2017-12-07 00:00:00           12   \n",
       "1  ...                 (5.0, 7.5]  2014-12-19 10:21:00           12   \n",
       "2  ...                 (5.0, 7.5]  2014-03-07 14:26:00            3   \n",
       "3  ...                (7.5, 10.0]  2014-04-02 15:55:00            4   \n",
       "4  ...               (15.0, 17.5]  2013-11-16 09:02:00           11   \n",
       "\n",
       "  intake_year  intake_monthyear  intake_weekday  intake_hour  intake_number  \\\n",
       "0        2017           2017-12        Thursday           14            1.0   \n",
       "1        2014           2014-12          Friday           10            2.0   \n",
       "2        2014           2014-03          Friday           14            3.0   \n",
       "3        2014           2014-04       Wednesday           15            1.0   \n",
       "4        2013           2013-11        Saturday            9            1.0   \n",
       "\n",
       "             time_in_shelter time_in_shelter_days  \n",
       "0  0 days 14:07:00.000000000             0.588194  \n",
       "1  1 days 06:14:00.000000000             1.259722  \n",
       "2  1 days 02:44:00.000000000             1.113889  \n",
       "3  4 days 23:17:00.000000000             4.970139  \n",
       "4  0 days 02:52:00.000000000             0.119444  \n",
       "\n",
       "[5 rows x 41 columns]"
      ]
     },
     "execution_count": 2,
     "metadata": {},
     "output_type": "execute_result"
    }
   ],
   "source": [
    "raw_data_intakes_outcomes = pd.read_csv(\"aac_intakes_outcomes.csv\")\n",
    "data_intakes_outcomes = raw_data_intakes_outcomes.copy()\n",
    "data_intakes_outcomes.head()"
   ]
  },
  {
   "cell_type": "code",
   "execution_count": 3,
   "id": "ddb3e6fe",
   "metadata": {},
   "outputs": [
    {
     "data": {
      "text/plain": [
       "79672"
      ]
     },
     "execution_count": 3,
     "metadata": {},
     "output_type": "execute_result"
    }
   ],
   "source": [
    "len(data_intakes_outcomes)"
   ]
  },
  {
   "cell_type": "code",
   "execution_count": 4,
   "id": "9383453f",
   "metadata": {
    "scrolled": true
   },
   "outputs": [
    {
     "data": {
      "text/plain": [
       "age_upon_outcome                  0\n",
       "animal_id_outcome                 0\n",
       "date_of_birth                     0\n",
       "outcome_subtype               43324\n",
       "outcome_type                     10\n",
       "sex_upon_outcome                  1\n",
       "age_upon_outcome_(days)           0\n",
       "age_upon_outcome_(years)          0\n",
       "age_upon_outcome_age_group        0\n",
       "outcome_datetime                  0\n",
       "outcome_month                     0\n",
       "outcome_year                      0\n",
       "outcome_monthyear                 0\n",
       "outcome_weekday                   0\n",
       "outcome_hour                      0\n",
       "outcome_number                    0\n",
       "dob_year                          0\n",
       "dob_month                         0\n",
       "dob_monthyear                     0\n",
       "age_upon_intake                   0\n",
       "animal_id_intake                  0\n",
       "animal_type                       0\n",
       "breed                             0\n",
       "color                             0\n",
       "found_location                    0\n",
       "intake_condition                  0\n",
       "intake_type                       0\n",
       "sex_upon_intake                   1\n",
       "count                             0\n",
       "age_upon_intake_(days)            0\n",
       "age_upon_intake_(years)           0\n",
       "age_upon_intake_age_group         0\n",
       "intake_datetime                   0\n",
       "intake_month                      0\n",
       "intake_year                       0\n",
       "intake_monthyear                  0\n",
       "intake_weekday                    0\n",
       "intake_hour                       0\n",
       "intake_number                     0\n",
       "time_in_shelter                   0\n",
       "time_in_shelter_days              0\n",
       "dtype: int64"
      ]
     },
     "execution_count": 4,
     "metadata": {},
     "output_type": "execute_result"
    }
   ],
   "source": [
    "# Check null values in the data set\n",
    "\n",
    "data_intakes_outcomes.isnull().sum()"
   ]
  },
  {
   "cell_type": "code",
   "execution_count": 5,
   "id": "c4bb8364",
   "metadata": {},
   "outputs": [
    {
     "data": {
      "text/plain": [
       "array(['Return to Owner', 'Transfer', 'Adoption', 'Euthanasia', 'Died',\n",
       "       'Rto-Adopt', 'Missing', 'Disposal', nan, 'Relocate'], dtype=object)"
      ]
     },
     "execution_count": 5,
     "metadata": {},
     "output_type": "execute_result"
    }
   ],
   "source": [
    "#Checking the unique values in the different columns\n",
    "\n",
    "#data_intakes_outcomes['outcome_subtype'].unique()\n",
    "data_intakes_outcomes['outcome_type'].unique()\n"
   ]
  },
  {
   "cell_type": "code",
   "execution_count": 6,
   "id": "468cc30e",
   "metadata": {
    "scrolled": true
   },
   "outputs": [
    {
     "data": {
      "text/plain": [
       "0        Not Specified\n",
       "1        Not Specified\n",
       "2        Not Specified\n",
       "3              Partner\n",
       "4        Not Specified\n",
       "             ...      \n",
       "79667          Partner\n",
       "79668      Rabies Risk\n",
       "79669      Rabies Risk\n",
       "79670    Not Specified\n",
       "79671        Suffering\n",
       "Name: outcome_subtype, Length: 79672, dtype: object"
      ]
     },
     "execution_count": 6,
     "metadata": {},
     "output_type": "execute_result"
    }
   ],
   "source": [
    "data_intakes_outcomes['outcome_subtype'] = data_intakes_outcomes['outcome_subtype'].fillna('Not Specified')\n",
    "data_intakes_outcomes['outcome_subtype']"
   ]
  },
  {
   "cell_type": "code",
   "execution_count": 7,
   "id": "088bd122",
   "metadata": {
    "scrolled": true
   },
   "outputs": [
    {
     "data": {
      "text/plain": [
       "age_upon_outcome              0\n",
       "animal_id_outcome             0\n",
       "date_of_birth                 0\n",
       "outcome_subtype               0\n",
       "outcome_type                  0\n",
       "sex_upon_outcome              0\n",
       "age_upon_outcome_(days)       0\n",
       "age_upon_outcome_(years)      0\n",
       "age_upon_outcome_age_group    0\n",
       "outcome_datetime              0\n",
       "outcome_month                 0\n",
       "outcome_year                  0\n",
       "outcome_monthyear             0\n",
       "outcome_weekday               0\n",
       "outcome_hour                  0\n",
       "outcome_number                0\n",
       "dob_year                      0\n",
       "dob_month                     0\n",
       "dob_monthyear                 0\n",
       "age_upon_intake               0\n",
       "animal_id_intake              0\n",
       "animal_type                   0\n",
       "breed                         0\n",
       "color                         0\n",
       "found_location                0\n",
       "intake_condition              0\n",
       "intake_type                   0\n",
       "sex_upon_intake               0\n",
       "count                         0\n",
       "age_upon_intake_(days)        0\n",
       "age_upon_intake_(years)       0\n",
       "age_upon_intake_age_group     0\n",
       "intake_datetime               0\n",
       "intake_month                  0\n",
       "intake_year                   0\n",
       "intake_monthyear              0\n",
       "intake_weekday                0\n",
       "intake_hour                   0\n",
       "intake_number                 0\n",
       "time_in_shelter               0\n",
       "time_in_shelter_days          0\n",
       "dtype: int64"
      ]
     },
     "execution_count": 7,
     "metadata": {},
     "output_type": "execute_result"
    }
   ],
   "source": [
    "data_cleaned = data_intakes_outcomes.dropna()\n",
    "data_cleaned.isnull().sum()"
   ]
  },
  {
   "cell_type": "code",
   "execution_count": 8,
   "id": "627bcf99",
   "metadata": {
    "scrolled": true
   },
   "outputs": [
    {
     "data": {
      "text/plain": [
       "0        2007-07-09 00:00:00\n",
       "1        2007-07-09 00:00:00\n",
       "2        2007-07-09 00:00:00\n",
       "3        2004-04-02 00:00:00\n",
       "4        1997-10-16 00:00:00\n",
       "                ...         \n",
       "79667    2018-03-14 00:00:00\n",
       "79668    2016-03-29 00:00:00\n",
       "79669    2017-03-29 00:00:00\n",
       "79670    2017-05-01 00:00:00\n",
       "79671    2008-03-29 00:00:00\n",
       "Name: date_of_birth, Length: 79661, dtype: object"
      ]
     },
     "execution_count": 8,
     "metadata": {},
     "output_type": "execute_result"
    }
   ],
   "source": [
    "data_cleaned['date_of_birth']"
   ]
  },
  {
   "cell_type": "code",
   "execution_count": 9,
   "id": "ccf7dfc1",
   "metadata": {
    "scrolled": true
   },
   "outputs": [],
   "source": [
    "data_cleaned = data_cleaned.drop([\n",
    "    'age_upon_outcome',\n",
    "    'animal_id_outcome',\n",
    "    'date_of_birth',\n",
    "    'sex_upon_outcome',\n",
    "    'age_upon_outcome_(years)',\n",
    "    'age_upon_outcome_age_group',\n",
    "    'outcome_datetime',\n",
    "    'outcome_month',\n",
    "    'outcome_year',\n",
    "    'outcome_monthyear',\n",
    "    'outcome_weekday',\n",
    "    'outcome_hour',\n",
    "    'outcome_number',\n",
    "    'dob_year',\n",
    "    'dob_month',\n",
    "    'dob_monthyear',\n",
    "    'age_upon_intake',\n",
    "    'animal_id_intake',\n",
    "    'count',\n",
    "    'age_upon_intake_(years)',\n",
    "    'age_upon_intake_age_group',\n",
    "    'intake_datetime',\n",
    "    'intake_month',\n",
    "    'intake_year',\n",
    "    'intake_monthyear',\n",
    "    'intake_weekday',\n",
    "    'intake_hour',\n",
    "    'intake_number',\n",
    "    'time_in_shelter',\n",
    "    'found_location'\n",
    "], axis=1)"
   ]
  },
  {
   "cell_type": "code",
   "execution_count": 10,
   "id": "727065fa",
   "metadata": {},
   "outputs": [],
   "source": [
    "data_cleaned = data_cleaned.reset_index(drop=True)"
   ]
  },
  {
   "cell_type": "code",
   "execution_count": 11,
   "id": "b36a98a7",
   "metadata": {},
   "outputs": [
    {
     "data": {
      "text/plain": [
       "2155"
      ]
     },
     "execution_count": 11,
     "metadata": {},
     "output_type": "execute_result"
    }
   ],
   "source": [
    "data_cleaned['breed'].nunique()"
   ]
  },
  {
   "cell_type": "code",
   "execution_count": 12,
   "id": "c404d684",
   "metadata": {},
   "outputs": [
    {
     "data": {
      "text/plain": [
       "outcome_subtype             object\n",
       "outcome_type                object\n",
       "age_upon_outcome_(days)      int64\n",
       "animal_type                 object\n",
       "breed                       object\n",
       "color                       object\n",
       "intake_condition            object\n",
       "intake_type                 object\n",
       "sex_upon_intake             object\n",
       "age_upon_intake_(days)       int64\n",
       "time_in_shelter_days       float64\n",
       "dtype: object"
      ]
     },
     "execution_count": 12,
     "metadata": {},
     "output_type": "execute_result"
    }
   ],
   "source": [
    "data_cleaned.dtypes"
   ]
  },
  {
   "cell_type": "code",
   "execution_count": 13,
   "id": "5c7857b2",
   "metadata": {},
   "outputs": [
    {
     "data": {
      "text/plain": [
       "0          Spinone Italiano Mix\n",
       "1          Spinone Italiano Mix\n",
       "2          Spinone Italiano Mix\n",
       "3                     Dachshund\n",
       "4             Shetland Sheepdog\n",
       "                  ...          \n",
       "79656    Domestic Shorthair Mix\n",
       "79657                   Bat Mix\n",
       "79658                   Bat Mix\n",
       "79659    Labrador Retriever Mix\n",
       "79660                 Boxer Mix\n",
       "Name: breed, Length: 79661, dtype: object"
      ]
     },
     "execution_count": 13,
     "metadata": {},
     "output_type": "execute_result"
    }
   ],
   "source": [
    "data_cleaned['breed']"
   ]
  },
  {
   "cell_type": "code",
   "execution_count": 14,
   "id": "fabe785c",
   "metadata": {
    "scrolled": true
   },
   "outputs": [
    {
     "data": {
      "text/plain": [
       "array(['Spinone Italiano Mix', 'Dachshund', 'Shetland Sheepdog',\n",
       "       'Labrador Retriever', 'Miniature Schnauzer Mix', 'Lhasa Apso Mix',\n",
       "       'Shetland Sheepdog Mix', 'Domestic Longhair Mix',\n",
       "       'American Shorthair Mix', 'Dachshund Mix', 'Border Collie Mix',\n",
       "       'Chihuahua Shorthair', 'German Shepherd', 'Domestic Shorthair',\n",
       "       'Newfoundland Mix', 'Pug', 'Staffordshire Mix',\n",
       "       'Labrador Retriever Mix', 'Catahoula', 'Queensland Heeler',\n",
       "       'Rottweiler', 'Domestic Shorthair Mix', 'Smooth Fox Terrier Mix',\n",
       "       'Rat Terrier Mix', 'German Shepherd Mix', 'Border Collie',\n",
       "       'Chihuahua Shorthair Mix', 'Pit Bull', 'Bichon Frise Mix',\n",
       "       'Jack Russell Terrier Mix', 'Harrier Mix', 'Pointer Mix',\n",
       "       'American Eskimo Mix', 'Doberman Pinsch Mix',\n",
       "       'Parson Russell Terrier Mix', 'Pit Bull Mix', 'Siamese',\n",
       "       'Australian Shepherd Mix', 'Chow Chow',\n",
       "       'Australian Cattle Dog Mix', 'Miniature Schnauzer', 'Rat Terrier',\n",
       "       'Siberian Husky Mix', 'Beagle Mix', 'Siamese Mix',\n",
       "       'Golden Retriever Mix', 'Australian Shepherd', 'Rottweiler Mix',\n",
       "       'Chow Chow Mix', 'Chinese Sharpei', 'Cocker Spaniel Mix',\n",
       "       'Catahoula Mix', 'Blue Lacy Mix', 'Bernese Mountain Dog',\n",
       "       'Scottish Fold Mix', 'Abyssinian Mix', 'Maine Coon Mix',\n",
       "       'Greyhound', 'Great Pyrenees Mix', 'Lhasa Apso',\n",
       "       'Cardigan Welsh Corgi Mix', 'Chinese Sharpei Mix',\n",
       "       'Boston Terrier', 'Miniature Poodle', 'Bullmastiff Mix',\n",
       "       'German Shorthair Pointer', 'Weimaraner Mix', 'American Eskimo',\n",
       "       'Pekingese Mix', 'Australian Cattle Dog', 'Rhod Ridgeback',\n",
       "       'Jack Russell Terrier', 'Field Spaniel Mix', 'Toy Poodle',\n",
       "       'Manchester Terrier Mix', 'Pomeranian Mix', 'Siberian Husky',\n",
       "       'Miniature Pinscher', 'Shih Tzu', 'Chihuahua Longhair Mix',\n",
       "       'Collie Rough', 'Pekingese', 'Golden Retriever', 'Cairn Terrier',\n",
       "       'American Bulldog Mix', 'Pembroke Welsh Corgi Mix',\n",
       "       'Cocker Spaniel', 'Vizsla Mix', 'Queensland Heeler Mix',\n",
       "       'Boxer Mix', 'Collie Smooth Mix', 'Boxer', 'Doberman Pinsch',\n",
       "       'Beagle', 'Finnish Spitz Mix', 'Maltese', 'Black',\n",
       "       'Basset Hound Mix', 'Shih Tzu Mix', 'Snowshoe', 'Basset Hound',\n",
       "       'Chihuahua Longhair', 'Boston Terrier Mix',\n",
       "       'Parson Russell Terrier', 'Snowshoe Mix', 'Black Mouth Cur Mix',\n",
       "       'Domestic Longhair', 'Tibetan Terrier Mix',\n",
       "       'Miniature Pinscher Mix', 'Miniature Poodle Mix', 'West Highland',\n",
       "       'American Staffordshire Terrier Mix', 'Yorkshire Terrier Mix',\n",
       "       'Yorkshire Terrier', 'Tibetan Terrier', 'Silky Terrier Mix',\n",
       "       'Wire Hair Fox Terrier', 'Norwich Terrier Mix',\n",
       "       'Flat Coat Retriever Mix', 'Australian Kelpie Mix', 'Harrier',\n",
       "       'Shiba Inu', 'Vizsla', 'Dogo Argentino Mix', 'Basenji',\n",
       "       'Ragdoll Mix', 'Plott Hound', 'Great Dane Mix', 'Maltese Mix',\n",
       "       'Border Terrier', 'Pointer', 'American Staffordshire Terrier',\n",
       "       'St. Bernard Rough Coat', 'Australian Kelpie', 'Bull Terrier Mix',\n",
       "       'Akita', 'English Foxhound Mix', 'Dalmatian Mix',\n",
       "       'Belgian Malinois', 'St. Bernard Rough Coat Mix',\n",
       "       'Dachshund Stan Mix', 'Toy Poodle Mix', 'Scottish Terrier',\n",
       "       'Podengo Pequeno Mix', 'Brittany Mix', 'Dutch Shepherd Mix',\n",
       "       'Pomeranian', 'Maine Coon', 'Great Pyrenees',\n",
       "       'Dachshund Longhair Mix', 'Basenji Mix', 'Pbgv', 'English Bulldog',\n",
       "       'Bulldog', 'Border Terrier Mix', 'Akita Mix', 'Carolina Dog',\n",
       "       'Dogo Argentino', 'Cardigan Welsh Corgi', 'Shiba Inu Mix',\n",
       "       'Blue Lacy', 'Bruss Griffon Mix',\n",
       "       'Wirehaired Pointing Griffon Mix', 'Alaskan Husky Mix',\n",
       "       'Norfolk Terrier Mix', 'English Springer Spaniel Mix',\n",
       "       'Silky Terrier', 'Rhod Ridgeback Mix', 'Domestic Medium Hair Mix',\n",
       "       'German Shorthair Pointer Mix', 'American Pit Bull Terrier',\n",
       "       'Staffordshire', 'Russian Blue Mix', 'American Bulldog',\n",
       "       'Mastiff Mix', 'Persian Mix', 'Wire Hair Fox Terrier Mix',\n",
       "       'Brittany', 'Italian Greyhound', 'English Coonhound',\n",
       "       'Afghan Hound Mix', 'Bull Terrier Miniature Mix', 'Boerboel Mix',\n",
       "       'Bluetick Hound', 'Bluetick Hound Mix', 'Cane Corso',\n",
       "       'Chartreux Mix', 'Cairn Terrier Mix', 'Toy Fox Terrier Mix',\n",
       "       'Alaskan Malamute', 'Dogue De Bordeaux',\n",
       "       'Soft Coated Wheaten Terrier', 'Oriental Sh Mix',\n",
       "       'Chesa Bay Retr Mix', 'English Bulldog Mix',\n",
       "       'American Pit Bull Terrier Mix', 'Presa Canario Mix',\n",
       "       'Plott Hound Mix', 'Anatol Shepherd', 'Airedale Terrier',\n",
       "       'Black Mouth Cur', 'Redbone Hound Mix', 'Whippet',\n",
       "       'Irish Wolfhound', 'Dachshund Wirehair', 'Whippet Mix',\n",
       "       'Tonkinese Mix', 'Cavalier Span Mix', 'Old English Bulldog Mix',\n",
       "       'Irish Terrier Mix', 'Australian Terrier Mix',\n",
       "       'Dogue De Bordeaux Mix', 'Collie Rough Mix', 'Anatol Shepherd Mix',\n",
       "       'Manx Mix', 'English Pointer Mix', 'Scottish Terrier Mix',\n",
       "       'Havanese Mix', 'Otterhound Mix', 'Carolina Dog Mix', 'Mastiff',\n",
       "       'Swedish Vallhund Mix', 'British Shorthair', 'Patterdale Terr Mix',\n",
       "       'Feist Mix', 'Standard Schnauzer Mix', 'Dandie Dinmont',\n",
       "       'Great Dane', 'Chinese Crested Mix', 'Keeshond Mix',\n",
       "       'Belgian Tervuren', 'Beauceron Mix', 'Dalmatian',\n",
       "       'American Foxhound Mix', 'Dachshund Wirehair Mix',\n",
       "       'Standard Poodle', 'Collie Smooth', 'Pbgv Mix',\n",
       "       'West Highland Mix', 'Treeing Walker Coonhound Mix',\n",
       "       'Pembroke Welsh Corgi', 'Bullmastiff', 'Cane Corso Mix',\n",
       "       'Tibetan Spaniel Mix', 'Unknown Mix', 'Papillon', 'Cavalier Span',\n",
       "       'Schipperke', 'English Springer Spaniel', 'Weimaraner',\n",
       "       'Greyhound Mix', 'Dachshund Longhair', 'Domestic Medium Hair',\n",
       "       'Kuvasz', 'Saluki Mix', 'Himalayan Mix', 'Belgian Malinois Mix',\n",
       "       'Bloodhound', 'Bulldog Mix', 'Leonberger Mix', 'Bloodhound Mix',\n",
       "       'German Pinscher', 'Soft Coated Wheaten Terrier Mix', 'Pug Mix',\n",
       "       'Bedlington Terr Mix', 'Alaskan Malamute Mix', 'Rabbit Sh Mix',\n",
       "       'Ibizan Hound Mix', 'Bat Mix', 'Japanese Chin Mix',\n",
       "       'Welsh Terrier Mix', 'Raccoon Mix', 'Skunk', 'Raccoon',\n",
       "       'Opossum Mix', 'Bat', 'Ferret', 'Californian Mix',\n",
       "       'English Pointer', 'Skye Terrier Mix', 'Redbone Hound',\n",
       "       'English Setter Mix', 'Skunk Mix', 'Rabbit Sh', 'Newfoundland',\n",
       "       'Port Water Dog Mix', 'Bengal', 'Old English Sheepdog', 'Fox Mix',\n",
       "       'Balinese Mix', 'Opossum', 'Armadillo Mix', 'Squirrel Mix',\n",
       "       'Pigeon Mix', 'Parakeet Mix', 'British Shorthair Mix',\n",
       "       'Guinea Pig Mix', 'Pharaoh Hound Mix', 'Exotic Shorthair Mix',\n",
       "       'Schipperke Mix', 'Bengal Mix', 'Eng Toy Spaniel Mix',\n",
       "       'Standard Schnauzer', 'Entlebucher Mix', 'Rhode Island Mix',\n",
       "       'Picardy Sheepdog', 'Bombay Mix', 'Fox', 'Standard Poodle Mix',\n",
       "       'Bearded Collie Mix', 'Turtle Mix', 'Papillon Mix', 'Bichon Frise',\n",
       "       'French Bulldog Mix', 'Rex Mix', 'French Bulldog', 'Guinea Pig',\n",
       "       'Squirrel', 'Irish Terrier', 'Bruss Griffon', 'Landseer Mix',\n",
       "       'Burmese', 'Norfolk Terrier', 'Affenpinscher Mix', 'Canaan Dog',\n",
       "       'German Pinscher Mix', 'Manchester Terrier', 'English Foxhound',\n",
       "       'Manx', 'Irish Wolfhound Mix', 'Coton De Tulear', 'Bearded Collie',\n",
       "       'Angora Mix', 'German Wirehaired Pointer', 'Rat',\n",
       "       'Japanese Bobtail Mix', 'Belgian Sheepdog Mix',\n",
       "       'Bernese Mountain Dog Mix', 'Norwegian Forest Cat Mix', 'Rat Mix',\n",
       "       'Treeing Walker Coonhound', 'Airedale Terrier Mix', 'Skye Terrier',\n",
       "       'Bouv Flandres', 'Swiss Hound', 'Feist', 'Californian',\n",
       "       'Dutch Shepherd', 'Old English Bulldog', 'Coyote Mix',\n",
       "       'Italian Greyhound Mix', 'Welsh Springer Spaniel Mix',\n",
       "       'St. Bernard Smooth Coat Mix', 'Norwich Terrier', 'Angora',\n",
       "       'Chicken Mix', 'Bull Terrier', 'Boykin Span Mix', 'Chicken',\n",
       "       'Hamster Mix', 'Nova Scotia Duck Tolling Retriever Mix',\n",
       "       'St. Bernard Smooth Coat', 'English Spot Mix',\n",
       "       'Flat Coat Retriever', 'Finnish Spitz', 'Lionhead Mix',\n",
       "       'Canaan Dog Mix', 'Duck Mix', 'Ibizan Hound', 'Kuvasz Mix',\n",
       "       'Ferret Mix', 'Lark Mix', 'Silver Mix', 'Jindo Mix', 'Boykin Span',\n",
       "       'Tortoise Mix', 'Samoyed Mix', 'Sugar Glider', 'Dutch Mix',\n",
       "       'English Coonhound Mix', 'Jersey Wooly Mix', 'Cockatiel Mix',\n",
       "       'Cottontail Mix', 'Russian Blue', 'Swedish Vallhund', 'Duck',\n",
       "       'Bantam Mix', 'Greater Swiss Mountain Dog Mix',\n",
       "       'Gordon Setter Mix', 'Ragdoll', 'Lop-English Mix',\n",
       "       'Glen Of Imaal Mix', 'Chinese Crested', 'Lovebird Mix',\n",
       "       'Beauceron', 'Himalayan', 'Parrot Mix', 'Armadillo', 'Cold Water',\n",
       "       'Persian', 'Nova Scotia Duck Tolling Retriever', 'Samoyed',\n",
       "       'American Mix', 'Sphynx', 'Presa Canario', 'Lop-Holland Mix',\n",
       "       'Rabbit Lh Mix', 'Lionhead', 'German Wirehaired Pointer Mix',\n",
       "       'Saluki', 'Snake', 'Cymric Mix', 'Sparrow Mix', 'Catbird Mix',\n",
       "       'Japanese Chin', 'Dutch', 'Grackle Mix', 'Belgian Tervuren Mix',\n",
       "       'Nuthatch Mix', 'Snake Mix', 'Lizard Mix', 'Quaker Mix',\n",
       "       'Dove Mix', 'Pixiebob Shorthair Mix', 'Silkie Mix', 'Cockatiel',\n",
       "       'American Sable', 'Munchkin Shorthair Mix', 'Welsh Terrier',\n",
       "       'Alaskan Husky', 'Patterdale Terr', 'Treeing Cur Mix',\n",
       "       'Chesa Bay Retr', 'Devon Rex Mix', 'Devon Rex', 'Schnauzer Giant',\n",
       "       'American Foxhound', 'Tibetan Spaniel',\n",
       "       'English Cocker Spaniel Mix', 'Irish Setter',\n",
       "       'New Zealand Wht Mix', 'Greater Swiss Mountain Dog',\n",
       "       'Smooth Fox Terrier', 'English Shepherd Mix', 'Lop-Mini Mix',\n",
       "       'Belgian Sheepdog', 'Keeshond', 'Sealyham Terr Mix', 'Finch',\n",
       "       'Parakeet', 'Mouse Mix', 'Hotot Mix', 'Turkish Van Mix',\n",
       "       'Turkey Mix', 'Guinea Mix', 'Conure', 'Hamster',\n",
       "       'English Shepherd', 'Schnauzer Giant Mix', 'Lowchen', 'Cinnamon',\n",
       "       'Spanish Mastiff Mix', 'Rabbit Lh', 'Bull Terrier Miniature',\n",
       "       'American Wirehair Mix', 'Old English Sheepdog Mix', 'Jindo',\n",
       "       'American Sable Mix', 'Gerbil Mix', 'Angora-French Mix', 'Dove',\n",
       "       'Toy Fox Terrier', 'Bluebird Mix', 'Pharaoh Hound', 'Bunting',\n",
       "       'Mockingbird', 'Sparrow', 'Glen Of Imaal', 'Mexican Hairless Mix',\n",
       "       'Turkish Angora Mix', 'Pigeon', 'Tarantula', 'Turtle', 'Havanese',\n",
       "       'Frog', 'Picardy Sheepdog Mix', 'Grackle',\n",
       "       'Neapolitan Mastiff Mix', 'Boerboel', 'Ringtail Mix', 'Owl Mix',\n",
       "       'Javanese Mix', 'Conure Mix', 'Havana Brown Mix',\n",
       "       'Cornish Rex Mix', 'Parrot', 'Welsh Springer Spaniel',\n",
       "       'Munchkin Longhair Mix', 'Goose Mix', 'Lizard',\n",
       "       'Netherlnd Dwarf Mix', 'Mockingbird Mix', 'Leonberger',\n",
       "       'Coton De Tulear Mix', 'Coyote', 'Rex-Mini', 'Budgerigar', 'Hawk',\n",
       "       'Bobcat Mix', 'Ocicat Mix', 'Field Spaniel',\n",
       "       'Treeing Tennesse Brindle', 'Lop-Holland', 'Lowchen Mix',\n",
       "       'Norwegian Elkhound Mix', 'Checkered Giant Mix', 'Lop-Mini',\n",
       "       'Wren Mix', 'Akbash Mix', 'Peafowl', 'Vulture Mix', 'Havana Mix',\n",
       "       'Peafowl Mix', 'Hedgehog', 'Heron Mix', 'Quaker',\n",
       "       'Chinchilla-Amer Mix', 'Hovawart', 'Cockatoo', 'Heron',\n",
       "       'Cockatoo Mix', 'African Mix', 'Chinchilla-Stnd Mix', 'Polish Mix',\n",
       "       'Sussex Span Mix', 'American Curl Shorthair Mix',\n",
       "       'Lakeland Terrier Mix', 'Grand Basset Griffon Vendeen Mix',\n",
       "       'Hawk Mix', 'Irish Setter Mix', 'Owl', 'Otter Mix', 'Landseer',\n",
       "       'English Spot', 'Neapolitan Mastiff', 'Barred Rock Mix',\n",
       "       'Harlequin Mix', 'Netherlnd Dwarf', 'Chinchilla Mix', 'Tortoise',\n",
       "       'Angora-English Mix', 'Cinnamon Mix', 'Crow Mix', 'Muscovy Mix',\n",
       "       'Rex', 'Birman Mix', 'Lop-Amer Fuzzy Mix', 'Muscovy',\n",
       "       'Song Bird Mix', 'Rex-Mini Mix', 'Mexican Hairless',\n",
       "       'Afghan Hound', 'Tropical Mix', 'Treeing Tennesse Brindle Mix',\n",
       "       'Flemish Giant', 'Deer Mix', 'American', 'Belgian Hare',\n",
       "       'Dandie Dinmont Mix', 'Pheasant Mix', 'Leghorn Mix',\n",
       "       'Japanese Bobtail', 'American Curl Shorthair',\n",
       "       'Britannia Petit Mix', 'Scottish Fold'], dtype=object)"
      ]
     },
     "execution_count": 14,
     "metadata": {},
     "output_type": "execute_result"
    }
   ],
   "source": [
    "data_cleaned['breed'] = data_cleaned['breed'].str.split(\"/\").str[0]\n",
    "\n",
    "data_cleaned['breed'].unique()"
   ]
  },
  {
   "cell_type": "code",
   "execution_count": 15,
   "id": "4ce3d18a",
   "metadata": {},
   "outputs": [
    {
     "data": {
      "text/plain": [
       "575"
      ]
     },
     "execution_count": 15,
     "metadata": {},
     "output_type": "execute_result"
    }
   ],
   "source": [
    "data_cleaned['breed'].nunique()"
   ]
  },
  {
   "cell_type": "code",
   "execution_count": 16,
   "id": "9f62b8c3",
   "metadata": {},
   "outputs": [
    {
     "data": {
      "text/plain": [
       "529"
      ]
     },
     "execution_count": 16,
     "metadata": {},
     "output_type": "execute_result"
    }
   ],
   "source": [
    "data_cleaned['color'].nunique()"
   ]
  },
  {
   "cell_type": "code",
   "execution_count": 17,
   "id": "823fde75",
   "metadata": {},
   "outputs": [
    {
     "data": {
      "text/plain": [
       "array(['Yellow', 'Tricolor', 'Brown', 'Black', 'White', 'Brown Tabby',\n",
       "       'Tan', 'Gold', 'Sable', 'Blue Merle', 'Gray', 'Cream', 'Red',\n",
       "       'Gray Tabby', 'Brown Merle', 'Tortie', 'Black Smoke',\n",
       "       'Orange Tabby', 'Blue Cream', 'Lynx Point', 'Red Merle', 'Calico',\n",
       "       'Blue', 'Lilac Point', 'Black Brindle', 'Chocolate', 'Blue Point',\n",
       "       'Silver Tabby', 'Brown Brindle', 'Seal Point', 'Flame Point',\n",
       "       'Blue Tick', 'Apricot', 'Buff', 'Chocolate Point', 'Black Tabby',\n",
       "       'Silver', 'Blue Tabby', 'Cream Tabby', 'Torbie', 'Calico Point',\n",
       "       'Tortie Point', 'Fawn', 'Red Tick', 'Liver', 'Black Tiger',\n",
       "       'Orange', 'Blue Tiger', 'Yellow Brindle', 'Brown Tiger', 'Green',\n",
       "       'Blue Smoke', 'Ruddy', 'Pink', 'Agouti', 'Liver Tick',\n",
       "       'Silver Lynx Point', 'Orange Tiger'], dtype=object)"
      ]
     },
     "execution_count": 17,
     "metadata": {},
     "output_type": "execute_result"
    }
   ],
   "source": [
    "data_cleaned['color'] = data_cleaned['color'].str.split(\"/\").str[0]\n",
    "\n",
    "data_cleaned['color'].unique()"
   ]
  },
  {
   "cell_type": "code",
   "execution_count": 18,
   "id": "8d6dea45",
   "metadata": {},
   "outputs": [
    {
     "data": {
      "text/plain": [
       "58"
      ]
     },
     "execution_count": 18,
     "metadata": {},
     "output_type": "execute_result"
    }
   ],
   "source": [
    "data_cleaned['color'].nunique()"
   ]
  },
  {
   "cell_type": "code",
   "execution_count": 19,
   "id": "b9b35a07",
   "metadata": {},
   "outputs": [
    {
     "data": {
      "text/html": [
       "<div>\n",
       "<style scoped>\n",
       "    .dataframe tbody tr th:only-of-type {\n",
       "        vertical-align: middle;\n",
       "    }\n",
       "\n",
       "    .dataframe tbody tr th {\n",
       "        vertical-align: top;\n",
       "    }\n",
       "\n",
       "    .dataframe thead th {\n",
       "        text-align: right;\n",
       "    }\n",
       "</style>\n",
       "<table border=\"1\" class=\"dataframe\">\n",
       "  <thead>\n",
       "    <tr style=\"text-align: right;\">\n",
       "      <th></th>\n",
       "      <th>outcome_subtype</th>\n",
       "      <th>outcome_type</th>\n",
       "      <th>age_upon_outcome_(days)</th>\n",
       "      <th>animal_type</th>\n",
       "      <th>breed</th>\n",
       "      <th>color</th>\n",
       "      <th>intake_condition</th>\n",
       "      <th>intake_type</th>\n",
       "      <th>sex_upon_intake</th>\n",
       "      <th>age_upon_intake_(days)</th>\n",
       "      <th>time_in_shelter_days</th>\n",
       "    </tr>\n",
       "  </thead>\n",
       "  <tbody>\n",
       "    <tr>\n",
       "      <th>0</th>\n",
       "      <td>Not Specified</td>\n",
       "      <td>Return to Owner</td>\n",
       "      <td>3650</td>\n",
       "      <td>Dog</td>\n",
       "      <td>Spinone Italiano Mix</td>\n",
       "      <td>Yellow</td>\n",
       "      <td>Normal</td>\n",
       "      <td>Stray</td>\n",
       "      <td>Neutered Male</td>\n",
       "      <td>3650</td>\n",
       "      <td>0.588194</td>\n",
       "    </tr>\n",
       "    <tr>\n",
       "      <th>1</th>\n",
       "      <td>Not Specified</td>\n",
       "      <td>Return to Owner</td>\n",
       "      <td>2555</td>\n",
       "      <td>Dog</td>\n",
       "      <td>Spinone Italiano Mix</td>\n",
       "      <td>Yellow</td>\n",
       "      <td>Normal</td>\n",
       "      <td>Public Assist</td>\n",
       "      <td>Neutered Male</td>\n",
       "      <td>2555</td>\n",
       "      <td>1.259722</td>\n",
       "    </tr>\n",
       "    <tr>\n",
       "      <th>2</th>\n",
       "      <td>Not Specified</td>\n",
       "      <td>Return to Owner</td>\n",
       "      <td>2190</td>\n",
       "      <td>Dog</td>\n",
       "      <td>Spinone Italiano Mix</td>\n",
       "      <td>Yellow</td>\n",
       "      <td>Normal</td>\n",
       "      <td>Public Assist</td>\n",
       "      <td>Neutered Male</td>\n",
       "      <td>2190</td>\n",
       "      <td>1.113889</td>\n",
       "    </tr>\n",
       "    <tr>\n",
       "      <th>3</th>\n",
       "      <td>Partner</td>\n",
       "      <td>Transfer</td>\n",
       "      <td>3650</td>\n",
       "      <td>Dog</td>\n",
       "      <td>Dachshund</td>\n",
       "      <td>Tricolor</td>\n",
       "      <td>Normal</td>\n",
       "      <td>Owner Surrender</td>\n",
       "      <td>Neutered Male</td>\n",
       "      <td>3650</td>\n",
       "      <td>4.970139</td>\n",
       "    </tr>\n",
       "    <tr>\n",
       "      <th>4</th>\n",
       "      <td>Not Specified</td>\n",
       "      <td>Return to Owner</td>\n",
       "      <td>5840</td>\n",
       "      <td>Dog</td>\n",
       "      <td>Shetland Sheepdog</td>\n",
       "      <td>Brown</td>\n",
       "      <td>Injured</td>\n",
       "      <td>Public Assist</td>\n",
       "      <td>Neutered Male</td>\n",
       "      <td>5840</td>\n",
       "      <td>0.119444</td>\n",
       "    </tr>\n",
       "  </tbody>\n",
       "</table>\n",
       "</div>"
      ],
      "text/plain": [
       "  outcome_subtype     outcome_type  age_upon_outcome_(days) animal_type  \\\n",
       "0   Not Specified  Return to Owner                     3650         Dog   \n",
       "1   Not Specified  Return to Owner                     2555         Dog   \n",
       "2   Not Specified  Return to Owner                     2190         Dog   \n",
       "3         Partner         Transfer                     3650         Dog   \n",
       "4   Not Specified  Return to Owner                     5840         Dog   \n",
       "\n",
       "                  breed     color intake_condition      intake_type  \\\n",
       "0  Spinone Italiano Mix    Yellow           Normal            Stray   \n",
       "1  Spinone Italiano Mix    Yellow           Normal    Public Assist   \n",
       "2  Spinone Italiano Mix    Yellow           Normal    Public Assist   \n",
       "3             Dachshund  Tricolor           Normal  Owner Surrender   \n",
       "4     Shetland Sheepdog     Brown          Injured    Public Assist   \n",
       "\n",
       "  sex_upon_intake  age_upon_intake_(days)  time_in_shelter_days  \n",
       "0   Neutered Male                    3650              0.588194  \n",
       "1   Neutered Male                    2555              1.259722  \n",
       "2   Neutered Male                    2190              1.113889  \n",
       "3   Neutered Male                    3650              4.970139  \n",
       "4   Neutered Male                    5840              0.119444  "
      ]
     },
     "execution_count": 19,
     "metadata": {},
     "output_type": "execute_result"
    }
   ],
   "source": [
    "data_cleaned.head()"
   ]
  },
  {
   "cell_type": "markdown",
   "id": "8fc694df",
   "metadata": {},
   "source": [
    "Mapping Outputs"
   ]
  },
  {
   "cell_type": "code",
   "execution_count": 20,
   "id": "4d81ef81",
   "metadata": {
    "scrolled": true
   },
   "outputs": [
    {
     "data": {
      "text/plain": [
       "array(['Return to Owner', 'Transfer', 'Adoption', 'Euthanasia', 'Died',\n",
       "       'Rto-Adopt', 'Missing', 'Disposal', 'Relocate'], dtype=object)"
      ]
     },
     "execution_count": 20,
     "metadata": {},
     "output_type": "execute_result"
    }
   ],
   "source": [
    "data_cleaned['outcome_type'].unique()"
   ]
  },
  {
   "cell_type": "code",
   "execution_count": 21,
   "id": "3e15703d",
   "metadata": {},
   "outputs": [],
   "source": [
    "data_cleaned['outcome_type'] = data_cleaned['outcome_type'].map({'Adoption':1})"
   ]
  },
  {
   "cell_type": "code",
   "execution_count": 22,
   "id": "27fd5a43",
   "metadata": {},
   "outputs": [],
   "source": [
    "data_cleaned['outcome_type'] = data_cleaned['outcome_type'].fillna(0)"
   ]
  },
  {
   "cell_type": "code",
   "execution_count": 23,
   "id": "6c6e2978",
   "metadata": {},
   "outputs": [
    {
     "data": {
      "text/plain": [
       "array([0., 1.])"
      ]
     },
     "execution_count": 23,
     "metadata": {},
     "output_type": "execute_result"
    }
   ],
   "source": [
    "data_cleaned['outcome_type'].unique()"
   ]
  },
  {
   "cell_type": "code",
   "execution_count": 24,
   "id": "5d78388c",
   "metadata": {},
   "outputs": [
    {
     "data": {
      "text/html": [
       "<div>\n",
       "<style scoped>\n",
       "    .dataframe tbody tr th:only-of-type {\n",
       "        vertical-align: middle;\n",
       "    }\n",
       "\n",
       "    .dataframe tbody tr th {\n",
       "        vertical-align: top;\n",
       "    }\n",
       "\n",
       "    .dataframe thead th {\n",
       "        text-align: right;\n",
       "    }\n",
       "</style>\n",
       "<table border=\"1\" class=\"dataframe\">\n",
       "  <thead>\n",
       "    <tr style=\"text-align: right;\">\n",
       "      <th></th>\n",
       "      <th>outcome_subtype</th>\n",
       "      <th>outcome_type</th>\n",
       "      <th>age_upon_outcome_(days)</th>\n",
       "      <th>animal_type</th>\n",
       "      <th>breed</th>\n",
       "      <th>color</th>\n",
       "      <th>intake_condition</th>\n",
       "      <th>intake_type</th>\n",
       "      <th>sex_upon_intake</th>\n",
       "      <th>age_upon_intake_(days)</th>\n",
       "      <th>time_in_shelter_days</th>\n",
       "    </tr>\n",
       "  </thead>\n",
       "  <tbody>\n",
       "    <tr>\n",
       "      <th>0</th>\n",
       "      <td>Not Specified</td>\n",
       "      <td>0.0</td>\n",
       "      <td>3650</td>\n",
       "      <td>Dog</td>\n",
       "      <td>Spinone Italiano Mix</td>\n",
       "      <td>Yellow</td>\n",
       "      <td>Normal</td>\n",
       "      <td>Stray</td>\n",
       "      <td>Neutered Male</td>\n",
       "      <td>3650</td>\n",
       "      <td>0.588194</td>\n",
       "    </tr>\n",
       "    <tr>\n",
       "      <th>1</th>\n",
       "      <td>Not Specified</td>\n",
       "      <td>0.0</td>\n",
       "      <td>2555</td>\n",
       "      <td>Dog</td>\n",
       "      <td>Spinone Italiano Mix</td>\n",
       "      <td>Yellow</td>\n",
       "      <td>Normal</td>\n",
       "      <td>Public Assist</td>\n",
       "      <td>Neutered Male</td>\n",
       "      <td>2555</td>\n",
       "      <td>1.259722</td>\n",
       "    </tr>\n",
       "    <tr>\n",
       "      <th>2</th>\n",
       "      <td>Not Specified</td>\n",
       "      <td>0.0</td>\n",
       "      <td>2190</td>\n",
       "      <td>Dog</td>\n",
       "      <td>Spinone Italiano Mix</td>\n",
       "      <td>Yellow</td>\n",
       "      <td>Normal</td>\n",
       "      <td>Public Assist</td>\n",
       "      <td>Neutered Male</td>\n",
       "      <td>2190</td>\n",
       "      <td>1.113889</td>\n",
       "    </tr>\n",
       "    <tr>\n",
       "      <th>3</th>\n",
       "      <td>Partner</td>\n",
       "      <td>0.0</td>\n",
       "      <td>3650</td>\n",
       "      <td>Dog</td>\n",
       "      <td>Dachshund</td>\n",
       "      <td>Tricolor</td>\n",
       "      <td>Normal</td>\n",
       "      <td>Owner Surrender</td>\n",
       "      <td>Neutered Male</td>\n",
       "      <td>3650</td>\n",
       "      <td>4.970139</td>\n",
       "    </tr>\n",
       "    <tr>\n",
       "      <th>4</th>\n",
       "      <td>Not Specified</td>\n",
       "      <td>0.0</td>\n",
       "      <td>5840</td>\n",
       "      <td>Dog</td>\n",
       "      <td>Shetland Sheepdog</td>\n",
       "      <td>Brown</td>\n",
       "      <td>Injured</td>\n",
       "      <td>Public Assist</td>\n",
       "      <td>Neutered Male</td>\n",
       "      <td>5840</td>\n",
       "      <td>0.119444</td>\n",
       "    </tr>\n",
       "  </tbody>\n",
       "</table>\n",
       "</div>"
      ],
      "text/plain": [
       "  outcome_subtype  outcome_type  age_upon_outcome_(days) animal_type  \\\n",
       "0   Not Specified           0.0                     3650         Dog   \n",
       "1   Not Specified           0.0                     2555         Dog   \n",
       "2   Not Specified           0.0                     2190         Dog   \n",
       "3         Partner           0.0                     3650         Dog   \n",
       "4   Not Specified           0.0                     5840         Dog   \n",
       "\n",
       "                  breed     color intake_condition      intake_type  \\\n",
       "0  Spinone Italiano Mix    Yellow           Normal            Stray   \n",
       "1  Spinone Italiano Mix    Yellow           Normal    Public Assist   \n",
       "2  Spinone Italiano Mix    Yellow           Normal    Public Assist   \n",
       "3             Dachshund  Tricolor           Normal  Owner Surrender   \n",
       "4     Shetland Sheepdog     Brown          Injured    Public Assist   \n",
       "\n",
       "  sex_upon_intake  age_upon_intake_(days)  time_in_shelter_days  \n",
       "0   Neutered Male                    3650              0.588194  \n",
       "1   Neutered Male                    2555              1.259722  \n",
       "2   Neutered Male                    2190              1.113889  \n",
       "3   Neutered Male                    3650              4.970139  \n",
       "4   Neutered Male                    5840              0.119444  "
      ]
     },
     "execution_count": 24,
     "metadata": {},
     "output_type": "execute_result"
    }
   ],
   "source": [
    "data_cleaned.head()"
   ]
  },
  {
   "cell_type": "code",
   "execution_count": 25,
   "id": "0265de96",
   "metadata": {},
   "outputs": [
    {
     "data": {
      "text/plain": [
       "outcome_subtype             object\n",
       "outcome_type               float64\n",
       "age_upon_outcome_(days)      int64\n",
       "animal_type                 object\n",
       "breed                       object\n",
       "color                       object\n",
       "intake_condition            object\n",
       "intake_type                 object\n",
       "sex_upon_intake             object\n",
       "age_upon_intake_(days)       int64\n",
       "time_in_shelter_days       float64\n",
       "dtype: object"
      ]
     },
     "execution_count": 25,
     "metadata": {},
     "output_type": "execute_result"
    }
   ],
   "source": [
    "data_cleaned.dtypes"
   ]
  },
  {
   "cell_type": "code",
   "execution_count": 26,
   "id": "e7cbd953",
   "metadata": {},
   "outputs": [],
   "source": [
    "#data_cleaned['outcome_type'] = data_cleaned['outcome_type'].astype(np.int64)\n",
    "#data_cleaned.dtypes"
   ]
  },
  {
   "cell_type": "code",
   "execution_count": 27,
   "id": "f8dc0d72",
   "metadata": {},
   "outputs": [
    {
     "data": {
      "text/html": [
       "<div>\n",
       "<style scoped>\n",
       "    .dataframe tbody tr th:only-of-type {\n",
       "        vertical-align: middle;\n",
       "    }\n",
       "\n",
       "    .dataframe tbody tr th {\n",
       "        vertical-align: top;\n",
       "    }\n",
       "\n",
       "    .dataframe thead th {\n",
       "        text-align: right;\n",
       "    }\n",
       "</style>\n",
       "<table border=\"1\" class=\"dataframe\">\n",
       "  <thead>\n",
       "    <tr style=\"text-align: right;\">\n",
       "      <th></th>\n",
       "      <th>outcome_type</th>\n",
       "      <th>age_upon_outcome_(days)</th>\n",
       "      <th>age_upon_intake_(days)</th>\n",
       "      <th>time_in_shelter_days</th>\n",
       "    </tr>\n",
       "  </thead>\n",
       "  <tbody>\n",
       "    <tr>\n",
       "      <th>count</th>\n",
       "      <td>79661.000000</td>\n",
       "      <td>79661.000000</td>\n",
       "      <td>79661.000000</td>\n",
       "      <td>79661.000000</td>\n",
       "    </tr>\n",
       "    <tr>\n",
       "      <th>mean</th>\n",
       "      <td>0.421712</td>\n",
       "      <td>782.057230</td>\n",
       "      <td>769.351100</td>\n",
       "      <td>16.758594</td>\n",
       "    </tr>\n",
       "    <tr>\n",
       "      <th>std</th>\n",
       "      <td>0.493836</td>\n",
       "      <td>1058.512661</td>\n",
       "      <td>1055.992884</td>\n",
       "      <td>41.681995</td>\n",
       "    </tr>\n",
       "    <tr>\n",
       "      <th>min</th>\n",
       "      <td>0.000000</td>\n",
       "      <td>0.000000</td>\n",
       "      <td>0.000000</td>\n",
       "      <td>0.000000</td>\n",
       "    </tr>\n",
       "    <tr>\n",
       "      <th>25%</th>\n",
       "      <td>0.000000</td>\n",
       "      <td>90.000000</td>\n",
       "      <td>60.000000</td>\n",
       "      <td>1.102778</td>\n",
       "    </tr>\n",
       "    <tr>\n",
       "      <th>50%</th>\n",
       "      <td>0.000000</td>\n",
       "      <td>365.000000</td>\n",
       "      <td>365.000000</td>\n",
       "      <td>4.987500</td>\n",
       "    </tr>\n",
       "    <tr>\n",
       "      <th>75%</th>\n",
       "      <td>1.000000</td>\n",
       "      <td>1095.000000</td>\n",
       "      <td>1095.000000</td>\n",
       "      <td>13.606250</td>\n",
       "    </tr>\n",
       "    <tr>\n",
       "      <th>max</th>\n",
       "      <td>1.000000</td>\n",
       "      <td>9125.000000</td>\n",
       "      <td>9125.000000</td>\n",
       "      <td>1606.194444</td>\n",
       "    </tr>\n",
       "  </tbody>\n",
       "</table>\n",
       "</div>"
      ],
      "text/plain": [
       "       outcome_type  age_upon_outcome_(days)  age_upon_intake_(days)  \\\n",
       "count  79661.000000             79661.000000            79661.000000   \n",
       "mean       0.421712               782.057230              769.351100   \n",
       "std        0.493836              1058.512661             1055.992884   \n",
       "min        0.000000                 0.000000                0.000000   \n",
       "25%        0.000000                90.000000               60.000000   \n",
       "50%        0.000000               365.000000              365.000000   \n",
       "75%        1.000000              1095.000000             1095.000000   \n",
       "max        1.000000              9125.000000             9125.000000   \n",
       "\n",
       "       time_in_shelter_days  \n",
       "count          79661.000000  \n",
       "mean              16.758594  \n",
       "std               41.681995  \n",
       "min                0.000000  \n",
       "25%                1.102778  \n",
       "50%                4.987500  \n",
       "75%               13.606250  \n",
       "max             1606.194444  "
      ]
     },
     "execution_count": 27,
     "metadata": {},
     "output_type": "execute_result"
    }
   ],
   "source": [
    "data_cleaned.describe()"
   ]
  },
  {
   "cell_type": "markdown",
   "id": "92a8e627",
   "metadata": {},
   "source": [
    "Dummy variables"
   ]
  },
  {
   "cell_type": "code",
   "execution_count": 28,
   "id": "be134613",
   "metadata": {},
   "outputs": [
    {
     "data": {
      "text/html": [
       "<div>\n",
       "<style scoped>\n",
       "    .dataframe tbody tr th:only-of-type {\n",
       "        vertical-align: middle;\n",
       "    }\n",
       "\n",
       "    .dataframe tbody tr th {\n",
       "        vertical-align: top;\n",
       "    }\n",
       "\n",
       "    .dataframe thead th {\n",
       "        text-align: right;\n",
       "    }\n",
       "</style>\n",
       "<table border=\"1\" class=\"dataframe\">\n",
       "  <thead>\n",
       "    <tr style=\"text-align: right;\">\n",
       "      <th></th>\n",
       "      <th>outcome_type</th>\n",
       "      <th>age_upon_outcome_(days)</th>\n",
       "      <th>age_upon_intake_(days)</th>\n",
       "      <th>time_in_shelter_days</th>\n",
       "      <th>outcome_subtype_Aggressive</th>\n",
       "      <th>outcome_subtype_At Vet</th>\n",
       "      <th>outcome_subtype_Barn</th>\n",
       "      <th>outcome_subtype_Behavior</th>\n",
       "      <th>outcome_subtype_Court/Investigation</th>\n",
       "      <th>outcome_subtype_Enroute</th>\n",
       "      <th>...</th>\n",
       "      <th>intake_type_Euthanasia Request</th>\n",
       "      <th>intake_type_Owner Surrender</th>\n",
       "      <th>intake_type_Public Assist</th>\n",
       "      <th>intake_type_Stray</th>\n",
       "      <th>intake_type_Wildlife</th>\n",
       "      <th>sex_upon_intake_Intact Female</th>\n",
       "      <th>sex_upon_intake_Intact Male</th>\n",
       "      <th>sex_upon_intake_Neutered Male</th>\n",
       "      <th>sex_upon_intake_Spayed Female</th>\n",
       "      <th>sex_upon_intake_Unknown</th>\n",
       "    </tr>\n",
       "  </thead>\n",
       "  <tbody>\n",
       "    <tr>\n",
       "      <th>0</th>\n",
       "      <td>0.0</td>\n",
       "      <td>3650</td>\n",
       "      <td>3650</td>\n",
       "      <td>0.588194</td>\n",
       "      <td>0</td>\n",
       "      <td>0</td>\n",
       "      <td>0</td>\n",
       "      <td>0</td>\n",
       "      <td>0</td>\n",
       "      <td>0</td>\n",
       "      <td>...</td>\n",
       "      <td>0</td>\n",
       "      <td>0</td>\n",
       "      <td>0</td>\n",
       "      <td>1</td>\n",
       "      <td>0</td>\n",
       "      <td>0</td>\n",
       "      <td>0</td>\n",
       "      <td>1</td>\n",
       "      <td>0</td>\n",
       "      <td>0</td>\n",
       "    </tr>\n",
       "    <tr>\n",
       "      <th>1</th>\n",
       "      <td>0.0</td>\n",
       "      <td>2555</td>\n",
       "      <td>2555</td>\n",
       "      <td>1.259722</td>\n",
       "      <td>0</td>\n",
       "      <td>0</td>\n",
       "      <td>0</td>\n",
       "      <td>0</td>\n",
       "      <td>0</td>\n",
       "      <td>0</td>\n",
       "      <td>...</td>\n",
       "      <td>0</td>\n",
       "      <td>0</td>\n",
       "      <td>1</td>\n",
       "      <td>0</td>\n",
       "      <td>0</td>\n",
       "      <td>0</td>\n",
       "      <td>0</td>\n",
       "      <td>1</td>\n",
       "      <td>0</td>\n",
       "      <td>0</td>\n",
       "    </tr>\n",
       "    <tr>\n",
       "      <th>2</th>\n",
       "      <td>0.0</td>\n",
       "      <td>2190</td>\n",
       "      <td>2190</td>\n",
       "      <td>1.113889</td>\n",
       "      <td>0</td>\n",
       "      <td>0</td>\n",
       "      <td>0</td>\n",
       "      <td>0</td>\n",
       "      <td>0</td>\n",
       "      <td>0</td>\n",
       "      <td>...</td>\n",
       "      <td>0</td>\n",
       "      <td>0</td>\n",
       "      <td>1</td>\n",
       "      <td>0</td>\n",
       "      <td>0</td>\n",
       "      <td>0</td>\n",
       "      <td>0</td>\n",
       "      <td>1</td>\n",
       "      <td>0</td>\n",
       "      <td>0</td>\n",
       "    </tr>\n",
       "    <tr>\n",
       "      <th>3</th>\n",
       "      <td>0.0</td>\n",
       "      <td>3650</td>\n",
       "      <td>3650</td>\n",
       "      <td>4.970139</td>\n",
       "      <td>0</td>\n",
       "      <td>0</td>\n",
       "      <td>0</td>\n",
       "      <td>0</td>\n",
       "      <td>0</td>\n",
       "      <td>0</td>\n",
       "      <td>...</td>\n",
       "      <td>0</td>\n",
       "      <td>1</td>\n",
       "      <td>0</td>\n",
       "      <td>0</td>\n",
       "      <td>0</td>\n",
       "      <td>0</td>\n",
       "      <td>0</td>\n",
       "      <td>1</td>\n",
       "      <td>0</td>\n",
       "      <td>0</td>\n",
       "    </tr>\n",
       "    <tr>\n",
       "      <th>4</th>\n",
       "      <td>0.0</td>\n",
       "      <td>5840</td>\n",
       "      <td>5840</td>\n",
       "      <td>0.119444</td>\n",
       "      <td>0</td>\n",
       "      <td>0</td>\n",
       "      <td>0</td>\n",
       "      <td>0</td>\n",
       "      <td>0</td>\n",
       "      <td>0</td>\n",
       "      <td>...</td>\n",
       "      <td>0</td>\n",
       "      <td>0</td>\n",
       "      <td>1</td>\n",
       "      <td>0</td>\n",
       "      <td>0</td>\n",
       "      <td>0</td>\n",
       "      <td>0</td>\n",
       "      <td>1</td>\n",
       "      <td>0</td>\n",
       "      <td>0</td>\n",
       "    </tr>\n",
       "  </tbody>\n",
       "</table>\n",
       "<p>5 rows × 679 columns</p>\n",
       "</div>"
      ],
      "text/plain": [
       "   outcome_type  age_upon_outcome_(days)  age_upon_intake_(days)  \\\n",
       "0           0.0                     3650                    3650   \n",
       "1           0.0                     2555                    2555   \n",
       "2           0.0                     2190                    2190   \n",
       "3           0.0                     3650                    3650   \n",
       "4           0.0                     5840                    5840   \n",
       "\n",
       "   time_in_shelter_days  outcome_subtype_Aggressive  outcome_subtype_At Vet  \\\n",
       "0              0.588194                           0                       0   \n",
       "1              1.259722                           0                       0   \n",
       "2              1.113889                           0                       0   \n",
       "3              4.970139                           0                       0   \n",
       "4              0.119444                           0                       0   \n",
       "\n",
       "   outcome_subtype_Barn  outcome_subtype_Behavior  \\\n",
       "0                     0                         0   \n",
       "1                     0                         0   \n",
       "2                     0                         0   \n",
       "3                     0                         0   \n",
       "4                     0                         0   \n",
       "\n",
       "   outcome_subtype_Court/Investigation  outcome_subtype_Enroute  ...  \\\n",
       "0                                    0                        0  ...   \n",
       "1                                    0                        0  ...   \n",
       "2                                    0                        0  ...   \n",
       "3                                    0                        0  ...   \n",
       "4                                    0                        0  ...   \n",
       "\n",
       "   intake_type_Euthanasia Request  intake_type_Owner Surrender  \\\n",
       "0                               0                            0   \n",
       "1                               0                            0   \n",
       "2                               0                            0   \n",
       "3                               0                            1   \n",
       "4                               0                            0   \n",
       "\n",
       "   intake_type_Public Assist  intake_type_Stray  intake_type_Wildlife  \\\n",
       "0                          0                  1                     0   \n",
       "1                          1                  0                     0   \n",
       "2                          1                  0                     0   \n",
       "3                          0                  0                     0   \n",
       "4                          1                  0                     0   \n",
       "\n",
       "   sex_upon_intake_Intact Female  sex_upon_intake_Intact Male  \\\n",
       "0                              0                            0   \n",
       "1                              0                            0   \n",
       "2                              0                            0   \n",
       "3                              0                            0   \n",
       "4                              0                            0   \n",
       "\n",
       "   sex_upon_intake_Neutered Male  sex_upon_intake_Spayed Female  \\\n",
       "0                              1                              0   \n",
       "1                              1                              0   \n",
       "2                              1                              0   \n",
       "3                              1                              0   \n",
       "4                              1                              0   \n",
       "\n",
       "   sex_upon_intake_Unknown  \n",
       "0                        0  \n",
       "1                        0  \n",
       "2                        0  \n",
       "3                        0  \n",
       "4                        0  \n",
       "\n",
       "[5 rows x 679 columns]"
      ]
     },
     "execution_count": 28,
     "metadata": {},
     "output_type": "execute_result"
    }
   ],
   "source": [
    "data_dummies = pd.get_dummies(data_cleaned, drop_first=False)\n",
    "data_dummies.head()"
   ]
  },
  {
   "cell_type": "code",
   "execution_count": 29,
   "id": "52af9f4a",
   "metadata": {},
   "outputs": [],
   "source": [
    "data_dummies = data_dummies.reset_index(drop=True)"
   ]
  },
  {
   "cell_type": "code",
   "execution_count": 40,
   "id": "e51b4eb0",
   "metadata": {},
   "outputs": [
    {
     "data": {
      "text/plain": [
       "outcome_type    float64\n",
       "dtype: object"
      ]
     },
     "execution_count": 40,
     "metadata": {},
     "output_type": "execute_result"
    }
   ],
   "source": [
    "unscaled_inputs_all = data_dummies.iloc[:,1:]\n",
    "targets_all = data_dummies.iloc[:,:1]\n",
    "targets_all.shape[0]\n",
    "targets_all.dtypes"
   ]
  },
  {
   "cell_type": "code",
   "execution_count": 43,
   "id": "2460960c",
   "metadata": {},
   "outputs": [
    {
     "data": {
      "text/plain": [
       "array([0., 0., 0., ..., 0., 0., 0.])"
      ]
     },
     "execution_count": 43,
     "metadata": {},
     "output_type": "execute_result"
    }
   ],
   "source": [
    "targets_all = targets_all.squeeze()\n",
    "targets_all = targets_all.to_numpy()\n",
    "targets_all"
   ]
  },
  {
   "cell_type": "markdown",
   "id": "02f7c8d4",
   "metadata": {},
   "source": [
    "Balance the dataset"
   ]
  },
  {
   "cell_type": "code",
   "execution_count": 45,
   "id": "d0ff3993",
   "metadata": {},
   "outputs": [],
   "source": [
    "num_one_targets = int(np.sum(targets_all))\n",
    "zero_targets_counter = 0\n",
    "indices_to_remove = []\n",
    "\n",
    "for x in range(targets_all.shape[0]):\n",
    "    if targets_all[x] == 0:\n",
    "        zero_targets_counter += 1\n",
    "        if zero_targets_counter > num_one_targets:\n",
    "            indices_to_remove.append(x)"
   ]
  },
  {
   "cell_type": "code",
   "execution_count": 46,
   "id": "6f07996d",
   "metadata": {},
   "outputs": [
    {
     "ename": "ValueError",
     "evalue": "Shape of passed values is (67188, 678), indices imply (79661, 678)",
     "output_type": "error",
     "traceback": [
      "\u001b[0;31m---------------------------------------------------------------------------\u001b[0m",
      "\u001b[0;31mValueError\u001b[0m                                Traceback (most recent call last)",
      "\u001b[0;32m/var/folders/rx/n4ff3dy56055c46w1gqb4km40000gn/T/ipykernel_37422/2334907405.py\u001b[0m in \u001b[0;36m<module>\u001b[0;34m\u001b[0m\n\u001b[0;32m----> 1\u001b[0;31m \u001b[0munscaled_inputs_equal_priors\u001b[0m \u001b[0;34m=\u001b[0m \u001b[0mnp\u001b[0m\u001b[0;34m.\u001b[0m\u001b[0mdelete\u001b[0m\u001b[0;34m(\u001b[0m\u001b[0munscaled_inputs_all\u001b[0m\u001b[0;34m,\u001b[0m \u001b[0mindices_to_remove\u001b[0m\u001b[0;34m,\u001b[0m \u001b[0maxis\u001b[0m\u001b[0;34m=\u001b[0m\u001b[0;36m0\u001b[0m\u001b[0;34m)\u001b[0m\u001b[0;34m\u001b[0m\u001b[0;34m\u001b[0m\u001b[0m\n\u001b[0m\u001b[1;32m      2\u001b[0m \u001b[0;31m#targets_equal_priors = np.delete(targets_all, indices_to_remove, axis=0)\u001b[0m\u001b[0;34m\u001b[0m\u001b[0;34m\u001b[0m\u001b[0m\n",
      "\u001b[0;32m/opt/anaconda3/envs/py3-TF2.0/lib/python3.10/site-packages/numpy/core/overrides.py\u001b[0m in \u001b[0;36mdelete\u001b[0;34m(*args, **kwargs)\u001b[0m\n",
      "\u001b[0;32m/opt/anaconda3/envs/py3-TF2.0/lib/python3.10/site-packages/numpy/lib/function_base.py\u001b[0m in \u001b[0;36mdelete\u001b[0;34m(arr, obj, axis)\u001b[0m\n\u001b[1;32m   5184\u001b[0m \u001b[0;34m\u001b[0m\u001b[0m\n\u001b[1;32m   5185\u001b[0m     \u001b[0;32mif\u001b[0m \u001b[0mwrap\u001b[0m\u001b[0;34m:\u001b[0m\u001b[0;34m\u001b[0m\u001b[0;34m\u001b[0m\u001b[0m\n\u001b[0;32m-> 5186\u001b[0;31m         \u001b[0;32mreturn\u001b[0m \u001b[0mwrap\u001b[0m\u001b[0;34m(\u001b[0m\u001b[0mnew\u001b[0m\u001b[0;34m)\u001b[0m\u001b[0;34m\u001b[0m\u001b[0;34m\u001b[0m\u001b[0m\n\u001b[0m\u001b[1;32m   5187\u001b[0m     \u001b[0;32melse\u001b[0m\u001b[0;34m:\u001b[0m\u001b[0;34m\u001b[0m\u001b[0;34m\u001b[0m\u001b[0m\n\u001b[1;32m   5188\u001b[0m         \u001b[0;32mreturn\u001b[0m \u001b[0mnew\u001b[0m\u001b[0;34m\u001b[0m\u001b[0;34m\u001b[0m\u001b[0m\n",
      "\u001b[0;32m/opt/anaconda3/envs/py3-TF2.0/lib/python3.10/site-packages/pandas/core/generic.py\u001b[0m in \u001b[0;36m__array_wrap__\u001b[0;34m(self, result, context)\u001b[0m\n\u001b[1;32m   2093\u001b[0m             \u001b[0;32mreturn\u001b[0m \u001b[0mres\u001b[0m\u001b[0;34m\u001b[0m\u001b[0;34m\u001b[0m\u001b[0m\n\u001b[1;32m   2094\u001b[0m         \u001b[0md\u001b[0m \u001b[0;34m=\u001b[0m \u001b[0mself\u001b[0m\u001b[0;34m.\u001b[0m\u001b[0m_construct_axes_dict\u001b[0m\u001b[0;34m(\u001b[0m\u001b[0mself\u001b[0m\u001b[0;34m.\u001b[0m\u001b[0m_AXIS_ORDERS\u001b[0m\u001b[0;34m,\u001b[0m \u001b[0mcopy\u001b[0m\u001b[0;34m=\u001b[0m\u001b[0;32mFalse\u001b[0m\u001b[0;34m)\u001b[0m\u001b[0;34m\u001b[0m\u001b[0;34m\u001b[0m\u001b[0m\n\u001b[0;32m-> 2095\u001b[0;31m         \u001b[0;32mreturn\u001b[0m \u001b[0mself\u001b[0m\u001b[0;34m.\u001b[0m\u001b[0m_constructor\u001b[0m\u001b[0;34m(\u001b[0m\u001b[0mres\u001b[0m\u001b[0;34m,\u001b[0m \u001b[0;34m**\u001b[0m\u001b[0md\u001b[0m\u001b[0;34m)\u001b[0m\u001b[0;34m.\u001b[0m\u001b[0m__finalize__\u001b[0m\u001b[0;34m(\u001b[0m\u001b[0mself\u001b[0m\u001b[0;34m,\u001b[0m \u001b[0mmethod\u001b[0m\u001b[0;34m=\u001b[0m\u001b[0;34m\"__array_wrap__\"\u001b[0m\u001b[0;34m)\u001b[0m\u001b[0;34m\u001b[0m\u001b[0;34m\u001b[0m\u001b[0m\n\u001b[0m\u001b[1;32m   2096\u001b[0m \u001b[0;34m\u001b[0m\u001b[0m\n\u001b[1;32m   2097\u001b[0m     \u001b[0;34m@\u001b[0m\u001b[0mfinal\u001b[0m\u001b[0;34m\u001b[0m\u001b[0;34m\u001b[0m\u001b[0m\n",
      "\u001b[0;32m/opt/anaconda3/envs/py3-TF2.0/lib/python3.10/site-packages/pandas/core/frame.py\u001b[0m in \u001b[0;36m__init__\u001b[0;34m(self, data, index, columns, dtype, copy)\u001b[0m\n\u001b[1;32m    692\u001b[0m                 )\n\u001b[1;32m    693\u001b[0m             \u001b[0;32melse\u001b[0m\u001b[0;34m:\u001b[0m\u001b[0;34m\u001b[0m\u001b[0;34m\u001b[0m\u001b[0m\n\u001b[0;32m--> 694\u001b[0;31m                 mgr = ndarray_to_mgr(\n\u001b[0m\u001b[1;32m    695\u001b[0m                     \u001b[0mdata\u001b[0m\u001b[0;34m,\u001b[0m\u001b[0;34m\u001b[0m\u001b[0;34m\u001b[0m\u001b[0m\n\u001b[1;32m    696\u001b[0m                     \u001b[0mindex\u001b[0m\u001b[0;34m,\u001b[0m\u001b[0;34m\u001b[0m\u001b[0;34m\u001b[0m\u001b[0m\n",
      "\u001b[0;32m/opt/anaconda3/envs/py3-TF2.0/lib/python3.10/site-packages/pandas/core/internals/construction.py\u001b[0m in \u001b[0;36mndarray_to_mgr\u001b[0;34m(values, index, columns, dtype, copy, typ)\u001b[0m\n\u001b[1;32m    349\u001b[0m     )\n\u001b[1;32m    350\u001b[0m \u001b[0;34m\u001b[0m\u001b[0m\n\u001b[0;32m--> 351\u001b[0;31m     \u001b[0m_check_values_indices_shape_match\u001b[0m\u001b[0;34m(\u001b[0m\u001b[0mvalues\u001b[0m\u001b[0;34m,\u001b[0m \u001b[0mindex\u001b[0m\u001b[0;34m,\u001b[0m \u001b[0mcolumns\u001b[0m\u001b[0;34m)\u001b[0m\u001b[0;34m\u001b[0m\u001b[0;34m\u001b[0m\u001b[0m\n\u001b[0m\u001b[1;32m    352\u001b[0m \u001b[0;34m\u001b[0m\u001b[0m\n\u001b[1;32m    353\u001b[0m     \u001b[0;32mif\u001b[0m \u001b[0mtyp\u001b[0m \u001b[0;34m==\u001b[0m \u001b[0;34m\"array\"\u001b[0m\u001b[0;34m:\u001b[0m\u001b[0;34m\u001b[0m\u001b[0;34m\u001b[0m\u001b[0m\n",
      "\u001b[0;32m/opt/anaconda3/envs/py3-TF2.0/lib/python3.10/site-packages/pandas/core/internals/construction.py\u001b[0m in \u001b[0;36m_check_values_indices_shape_match\u001b[0;34m(values, index, columns)\u001b[0m\n\u001b[1;32m    420\u001b[0m         \u001b[0mpassed\u001b[0m \u001b[0;34m=\u001b[0m \u001b[0mvalues\u001b[0m\u001b[0;34m.\u001b[0m\u001b[0mshape\u001b[0m\u001b[0;34m\u001b[0m\u001b[0;34m\u001b[0m\u001b[0m\n\u001b[1;32m    421\u001b[0m         \u001b[0mimplied\u001b[0m \u001b[0;34m=\u001b[0m \u001b[0;34m(\u001b[0m\u001b[0mlen\u001b[0m\u001b[0;34m(\u001b[0m\u001b[0mindex\u001b[0m\u001b[0;34m)\u001b[0m\u001b[0;34m,\u001b[0m \u001b[0mlen\u001b[0m\u001b[0;34m(\u001b[0m\u001b[0mcolumns\u001b[0m\u001b[0;34m)\u001b[0m\u001b[0;34m)\u001b[0m\u001b[0;34m\u001b[0m\u001b[0;34m\u001b[0m\u001b[0m\n\u001b[0;32m--> 422\u001b[0;31m         \u001b[0;32mraise\u001b[0m \u001b[0mValueError\u001b[0m\u001b[0;34m(\u001b[0m\u001b[0;34mf\"Shape of passed values is {passed}, indices imply {implied}\"\u001b[0m\u001b[0;34m)\u001b[0m\u001b[0;34m\u001b[0m\u001b[0;34m\u001b[0m\u001b[0m\n\u001b[0m\u001b[1;32m    423\u001b[0m \u001b[0;34m\u001b[0m\u001b[0m\n\u001b[1;32m    424\u001b[0m \u001b[0;34m\u001b[0m\u001b[0m\n",
      "\u001b[0;31mValueError\u001b[0m: Shape of passed values is (67188, 678), indices imply (79661, 678)"
     ]
    }
   ],
   "source": [
    "unscaled_inputs_equal_priors = np.delete(unscaled_inputs_all, indices_to_remove, axis=0)\n",
    "#targets_equal_priors = np.delete(targets_all, indices_to_remove, axis=0)"
   ]
  },
  {
   "cell_type": "code",
   "execution_count": null,
   "id": "1f0c3385",
   "metadata": {},
   "outputs": [],
   "source": []
  },
  {
   "cell_type": "code",
   "execution_count": null,
   "id": "106e2008",
   "metadata": {},
   "outputs": [],
   "source": []
  },
  {
   "cell_type": "code",
   "execution_count": null,
   "id": "c8a0dbef",
   "metadata": {},
   "outputs": [],
   "source": []
  },
  {
   "cell_type": "code",
   "execution_count": null,
   "id": "185b5706",
   "metadata": {},
   "outputs": [],
   "source": []
  },
  {
   "cell_type": "code",
   "execution_count": null,
   "id": "21d62cb6",
   "metadata": {},
   "outputs": [],
   "source": []
  },
  {
   "cell_type": "code",
   "execution_count": null,
   "id": "90ddaca5",
   "metadata": {},
   "outputs": [],
   "source": []
  },
  {
   "cell_type": "code",
   "execution_count": null,
   "id": "51502905",
   "metadata": {},
   "outputs": [],
   "source": []
  },
  {
   "cell_type": "code",
   "execution_count": null,
   "id": "8c39f5b1",
   "metadata": {},
   "outputs": [],
   "source": []
  },
  {
   "cell_type": "code",
   "execution_count": null,
   "id": "b5daeb37",
   "metadata": {},
   "outputs": [],
   "source": [
    "training_data = data_dummies.sample(frac=0.8, random_state=25)\n",
    "testing_data = data_dummies.drop(training_data.index)\n",
    "\n",
    "training_data = training_data.reset_index(drop=True)\n",
    "testing_data = testing_data.reset_index(drop=True)"
   ]
  },
  {
   "cell_type": "code",
   "execution_count": null,
   "id": "0e93cc55",
   "metadata": {},
   "outputs": [],
   "source": [
    "train_input = training_data.iloc[:,1:]\n",
    "train_target = training_data.iloc[:,:1]\n",
    "\n",
    "test_input = testing_data.iloc[:,1:]\n",
    "test_target = testing_data.iloc[:,:1]"
   ]
  },
  {
   "cell_type": "code",
   "execution_count": null,
   "id": "35758458",
   "metadata": {},
   "outputs": [],
   "source": [
    "train_input.head()"
   ]
  },
  {
   "cell_type": "code",
   "execution_count": null,
   "id": "97dc91be",
   "metadata": {},
   "outputs": [],
   "source": [
    "train_target.head()"
   ]
  },
  {
   "cell_type": "code",
   "execution_count": null,
   "id": "800ea683",
   "metadata": {},
   "outputs": [],
   "source": []
  },
  {
   "cell_type": "code",
   "execution_count": null,
   "id": "b6624cfb",
   "metadata": {},
   "outputs": [],
   "source": []
  },
  {
   "cell_type": "code",
   "execution_count": null,
   "id": "f86b65a2",
   "metadata": {},
   "outputs": [],
   "source": [
    "from sklearn import preprocessing"
   ]
  },
  {
   "cell_type": "code",
   "execution_count": null,
   "id": "7c5d03e7",
   "metadata": {},
   "outputs": [],
   "source": []
  },
  {
   "cell_type": "code",
   "execution_count": null,
   "id": "63a9971d",
   "metadata": {},
   "outputs": [],
   "source": []
  },
  {
   "cell_type": "code",
   "execution_count": null,
   "id": "484293fd",
   "metadata": {},
   "outputs": [],
   "source": []
  },
  {
   "cell_type": "code",
   "execution_count": null,
   "id": "0eb0b1e0",
   "metadata": {},
   "outputs": [],
   "source": []
  },
  {
   "cell_type": "code",
   "execution_count": null,
   "id": "e4b62b0b",
   "metadata": {},
   "outputs": [],
   "source": []
  },
  {
   "cell_type": "code",
   "execution_count": null,
   "id": "fa73165f",
   "metadata": {},
   "outputs": [],
   "source": []
  },
  {
   "cell_type": "code",
   "execution_count": null,
   "id": "287bc838",
   "metadata": {},
   "outputs": [],
   "source": []
  },
  {
   "cell_type": "markdown",
   "id": "e62e52da",
   "metadata": {},
   "source": [
    "# Neural Network"
   ]
  },
  {
   "cell_type": "code",
   "execution_count": null,
   "id": "745e58f0",
   "metadata": {},
   "outputs": [],
   "source": [
    "model = tf.keras.models.Sequential([\n",
    "    tf.keras.layers.Dense(32, activation='relu',input_shape=(4,)),\n",
    "    tf.keras.layers.Dense(32, activation='relu'),\n",
    "    tf.keras.layers.Dense(1)\n",
    "])\n",
    "\n",
    "model.compile(optimizer='adam', loss='mean_squared_error', metrics='mean_squared_error')"
   ]
  },
  {
   "cell_type": "code",
   "execution_count": null,
   "id": "2aa99f0b",
   "metadata": {},
   "outputs": [],
   "source": [
    "model.fit(x_train, y_train, epochs=100)"
   ]
  }
 ],
 "metadata": {
  "kernelspec": {
   "display_name": "Python 3 (ipykernel)",
   "language": "python",
   "name": "python3"
  },
  "language_info": {
   "codemirror_mode": {
    "name": "ipython",
    "version": 3
   },
   "file_extension": ".py",
   "mimetype": "text/x-python",
   "name": "python",
   "nbconvert_exporter": "python",
   "pygments_lexer": "ipython3",
   "version": "3.10.4"
  }
 },
 "nbformat": 4,
 "nbformat_minor": 5
}
